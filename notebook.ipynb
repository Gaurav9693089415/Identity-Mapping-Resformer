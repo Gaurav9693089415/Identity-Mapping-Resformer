{
 "cells": [
  {
   "cell_type": "markdown",
   "id": "a15556c7-fcec-4c80-ba9f-eb65c1a69327",
   "metadata": {},
   "source": [
    "### !pip install albumentations"
   ]
  },
  {
   "cell_type": "code",
   "execution_count": null,
   "id": "6c8ad5a6-c278-401a-904c-b431c905dc47",
   "metadata": {},
   "outputs": [
    {
     "name": "stdout",
     "output_type": "stream",
     "text": [
      "Requirement already satisfied: einops in c:\\anaconda\\lib\\site-packages (0.8.1)\n"
     ]
    }
   ],
   "source": [
    "# Installs the 'einops' library for easier array/tensor operations\n",
    "pip install einops"
   ]
  },
  {
   "cell_type": "markdown",
   "id": "79cb0d32-054e-4a20-b9c3-8f124a6cf982",
   "metadata": {},
   "source": [
    "# **Importing Libraries**"
   ]
  },
  {
   "cell_type": "code",
   "execution_count": null,
   "id": "115e669f-8dba-4e1f-9916-2776d82860f7",
   "metadata": {},
   "outputs": [],
   "source": [
    "# Import libraries\n",
    "import torch  # Main PyTorch for deep learning\n",
    "import torch.nn as nn  # For neural network layers\n",
    "import torch.nn.functional as F  # For activation functions\n",
    "import torch.optim as optim  # For training optimizers\n",
    "from torch.utils.data import Dataset, DataLoader  # For loading data\n",
    "import torchvision.transforms as transforms  # Basic image transforms\n",
    "from torchvision.datasets import ImageFolder  # For image datasets\n",
    "\n",
    "import numpy as np  # For math/array operations\n",
    "import pandas as pd  # For data handling\n",
    "import matplotlib.pyplot as plt  # For plotting graphs\n",
    "import seaborn as sns  # For nicer visualizations\n",
    "\n",
    "from sklearn.model_selection import train_test_split  # To split train/test data\n",
    "from sklearn.metrics import precision_score, recall_score, f1_score, confusion_matrix  # For model evaluation\n",
    "\n",
    "from tqdm import tqdm  # For progress bars\n",
    "import os  # For file/folder operations\n",
    "import shutil  # For copying/moving files\n",
    "import zipfile  # For working with zip files\n",
    "from glob import glob  # For finding files\n",
    "\n",
    "import albumentations as A  # For image augmentations\n",
    "from albumentations.pytorch import ToTensorV2  # To convert images to tensors\n",
    "from einops import rearrange  # For easy array reshaping"
   ]
  },
  {
   "cell_type": "code",
   "execution_count": 23,
   "id": "06519359-8ae8-4e9f-888d-23f7acadbcdd",
   "metadata": {},
   "outputs": [
    {
     "name": "stdout",
     "output_type": "stream",
     "text": [
      "PyTorch Version: 2.7.0+cpu\n",
      "Device: CPU\n"
     ]
    }
   ],
   "source": [
    "# Check PyTorch version and CPU\n",
    "print(f\"PyTorch Version: {torch.__version__}\")\n",
    "print(f\"Device: CPU\")"
   ]
  },
  {
   "cell_type": "markdown",
   "id": "8c56d221-49cd-4b6a-a863-2a7a4586cd24",
   "metadata": {},
   "source": [
    "# **Organizing  Dataset**"
   ]
  },
  {
   "cell_type": "markdown",
   "id": "3f80c295-4277-4f70-bf74-319e9ddddb2c",
   "metadata": {},
   "source": [
    "## 1. Defining paths"
   ]
  },
  {
   "cell_type": "code",
   "execution_count": null,
   "id": "05cf3c6f-1211-411e-8ce3-27419c907e3a",
   "metadata": {},
   "outputs": [],
   "source": [
    "# Path where the ZIP file is currently stored\n",
    "zip_path = 'C:/Users/atish/01-Projects/COVID-19_Radiography_Dataset.zip'\n",
    "\n",
    "# Where we'll extract the ZIP contents (main dataset folder)\n",
    "dataset_path = 'C:/Users/atish/01-Projects/COVID-19_Radiography_Dataset'\n",
    "\n",
    "# We'll create these folders later to organize train/test images\n",
    "train_path = './train'    # Will store training images\n",
    "test_path = './test'      # Will store testing images"
   ]
  },
  {
   "cell_type": "code",
   "execution_count": 27,
   "id": "6f842f1e-12c6-4478-b447-f2cbf81938be",
   "metadata": {},
   "outputs": [
    {
     "data": {
      "text/plain": [
       "True"
      ]
     },
     "execution_count": 27,
     "metadata": {},
     "output_type": "execute_result"
    }
   ],
   "source": [
    "os.path.exists(zip_path)"
   ]
  },
  {
   "cell_type": "markdown",
   "id": "aef6f80b-ea66-4697-9259-96a2df4f19da",
   "metadata": {},
   "source": [
    "## 2. Unzip dataset"
   ]
  },
  {
   "cell_type": "code",
   "execution_count": null,
   "id": "be20596b-a6f4-449e-ba9d-c302a7457d0e",
   "metadata": {},
   "outputs": [
    {
     "name": "stdout",
     "output_type": "stream",
     "text": [
      " Dataset already available at: C:/Users/atish/01-Projects/COVID-19_Radiography_Dataset\n"
     ]
    }
   ],
   "source": [
    "# Check if dataset folder doesn't exist AND the zip file exists\n",
    "if not os.path.exists(dataset_path) and os.path.exists(zip_path): \n",
    "    \n",
    "    # Create the dataset folder (won't error if already exists)\n",
    "    os.makedirs(dataset_path, exist_ok=True)  \n",
    "    \n",
    "    # Open the zip file in read mode\n",
    "    with zipfile.ZipFile(zip_path, 'r') as zip_ref: \n",
    "        \n",
    "        # Extract all files from zip to the dataset folder's parent directory\n",
    "        zip_ref.extractall(os.path.dirname(dataset_path)) \n",
    "    \n",
    "    # Confirm extraction completed\n",
    "    print(f\" Dataset extracted to: {dataset_path}\") \n",
    "\n",
    "# If dataset folder already exists or zip is missing\n",
    "else:\n",
    "    # Tell user where to find the existing dataset\n",
    "    print(f\" Dataset already available at: {dataset_path}\")  "
   ]
  },
  {
   "cell_type": "markdown",
   "id": "cd29e225-dd6c-40c7-869e-d6ae2c638daa",
   "metadata": {},
   "source": [
    "## 3. Collecting image paths and labels"
   ]
  },
  {
   "cell_type": "code",
   "execution_count": null,
   "id": "0fa89e13-5037-445d-b828-b21e28c97889",
   "metadata": {},
   "outputs": [
    {
     "name": "stdout",
     "output_type": "stream",
     "text": [
      " Total images found: 21165\n"
     ]
    }
   ],
   "source": [
    "# Create a dictionary mapping each class name to a number (for ML labels)\n",
    "class_map = {'COVID': 0, 'Viral Pneumonia': 1, 'Lung_Opacity': 2, 'Normal': 3}\n",
    "\n",
    "# Initialize empty list to store image paths and their labels\n",
    "data = []\n",
    "\n",
    "# Loop through each class (COVID, Viral Pneumonia, etc.)\n",
    "for class_name in class_map:\n",
    "    \n",
    "    # Create the full path to this class's \"images\" subfolder\n",
    "    image_folder = os.path.join(dataset_path, class_name, 'images')\n",
    "    \n",
    "    # Find all PNG images in this folder using glob\n",
    "    image_paths = glob(os.path.join(image_folder, '*.png'))\n",
    "    \n",
    "    # Add each image path with its class name to the data list\n",
    "    data.extend([[img_path, class_name] for img_path in image_paths])\n",
    "\n",
    "# Print the total number of images found across all classes\n",
    "print(f\" Total images found: {len(data)}\")"
   ]
  },
  {
   "cell_type": "markdown",
   "id": "aafcdb30-cc78-41c6-bda5-715650970cb3",
   "metadata": {},
   "source": [
    "## 4. Creating DataFrame and split"
   ]
  },
  {
   "cell_type": "code",
   "execution_count": null,
   "id": "98d7f5f7-4c00-4dc4-9f2f-fa7ce4946a2c",
   "metadata": {},
   "outputs": [
    {
     "name": "stdout",
     "output_type": "stream",
     "text": [
      " Train size: 19048, Test size: 2117\n"
     ]
    }
   ],
   "source": [
    "# Create a pandas DataFrame to organize our image paths and their labels\n",
    "\n",
    "df = pd.DataFrame(data, columns=['image_path', 'label'])\n",
    "\n",
    "# Split the data into training (90%) and test sets (10%) while preserving:\n",
    "# - The same class proportions in both sets (stratify=df['label'])\n",
    "\n",
    "train_df, test_df = train_test_split(df, test_size=0.1, stratify=df['label'], random_state=42)\n",
    "\n",
    "# Print how many images are in each set\n",
    "print(f\" Train size: {len(train_df)}, Test size: {len(test_df)}\")"
   ]
  },
  {
   "cell_type": "markdown",
   "id": "d128f74e-9ce9-4bd2-8b5a-fb2f1ac8deec",
   "metadata": {},
   "source": [
    "## 5. Creating train/test directories"
   ]
  },
  {
   "cell_type": "code",
   "execution_count": null,
   "id": "7249d4fb-aab5-437e-bd95-59c3849b9b06",
   "metadata": {},
   "outputs": [],
   "source": [
    "# Create train/test directories\n",
    "for path in [train_path, test_path]:\n",
    "    for class_name in class_map:\n",
    "        os.makedirs(os.path.join(path, class_name), exist_ok=True)"
   ]
  },
  {
   "cell_type": "markdown",
   "id": "67a061c3",
   "metadata": {},
   "source": [
    "## Copies training images to labeled folders and prints train/test image counts"
   ]
  },
  {
   "cell_type": "code",
   "execution_count": null,
   "id": "47bd3f2a-60e0-4171-b37b-f1ba749900e9",
   "metadata": {},
   "outputs": [
    {
     "name": "stdout",
     "output_type": "stream",
     "text": [
      "Train images: 19048, Test images: 2117\n"
     ]
    }
   ],
   "source": [
    "\n",
    "\n",
    "# Loop through each training image record\n",
    "for _, row in train_df.iterrows():\n",
    "\n",
    "    # Build destination path: train/label/filename\n",
    "    dest = os.path.join(train_path, row['label'], os.path.basename(row['image_path']))\n",
    "\n",
    "    # Copy image to organized folder structure\n",
    "    shutil.copyfile(row['image_path'], dest)\n",
    "\n",
    "# Print counts of training and test images\n",
    "print(f\"Train images: {len(train_df)}, Test images: {len(test_df)}\")"
   ]
  },
  {
   "cell_type": "markdown",
   "id": "e829ab2c-6fa4-4c9e-a16d-7d208dcd737a",
   "metadata": {},
   "source": [
    "# **Defining Data Loaders**"
   ]
  },
  {
   "cell_type": "code",
   "execution_count": null,
   "id": "c3e35a69",
   "metadata": {},
   "outputs": [],
   "source": [
    "#Resizes images to 128x128, applies random horizontal flip (50% chance) and normalization for training, only resize and normalization for testing, then converts both to PyTorch tensors.\n"
   ]
  },
  {
   "cell_type": "code",
   "execution_count": null,
   "id": "33b8972b-2814-4049-b7f0-936655369557",
   "metadata": {},
   "outputs": [],
   "source": [
    "# Define transformations (128x128 for CPU efficiency)\n",
    "train_transforms = A.Compose([\n",
    "    A.Resize(128, 128),\n",
    "    A.HorizontalFlip(p=0.5),#There is a 50% probability that the image will be flipped horizontally (mirrored left-to-right)\n",
    "    A.Normalize(mean=(0.485, 0.456, 0.406), std=(0.229, 0.224, 0.225)),\n",
    "    ToTensorV2()\n",
    "])\n",
    "\n",
    "test_transforms = A.Compose([\n",
    "    A.Resize(128, 128),\n",
    "    A.Normalize(mean=(0.485, 0.456, 0.406), std=(0.229, 0.224, 0.225)),\n",
    "    ToTensorV2()#converts an image into a PyTorch tensor, a format required for PyTorch-based neural networks\n",
    "])"
   ]
  },
  {
   "cell_type": "markdown",
   "id": "ad69efcb-01c9-4a03-9784-e1027d2e3519",
   "metadata": {},
   "source": [
    "## 1. Loading datasets"
   ]
  },
  {
   "cell_type": "code",
   "execution_count": null,
   "id": "f5bc15e0-cb18-414b-9984-0954a5d7ea48",
   "metadata": {},
   "outputs": [],
   "source": [
    "# Loads training and test datasets using ImageFolder, applying the defined transformations to convert images to PyTorch tensors.\n",
    "train_dataset = ImageFolder(train_path, transform=lambda x: train_transforms(image=np.array(x))['image'])\n",
    "test_dataset = ImageFolder(test_path, transform=lambda x: test_transforms(image=np.array(x))['image'])\n"
   ]
  },
  {
   "cell_type": "code",
   "execution_count": 43,
   "id": "e41cee26-8d4c-434a-a30f-bb2588989bb1",
   "metadata": {},
   "outputs": [
    {
     "name": "stdout",
     "output_type": "stream",
     "text": [
      "Classes: ['COVID', 'Lung_Opacity', 'Normal', 'Viral Pneumonia']\n",
      "Train samples: 19048, Test samples: 2117\n"
     ]
    }
   ],
   "source": [
    "# Create DataLoaders\n",
    "train_loader = DataLoader(train_dataset, batch_size=4, shuffle=True, num_workers=0)  # num_workers=0 for CPU\n",
    "test_loader = DataLoader(test_dataset, batch_size=4, shuffle=False, num_workers=0)\n",
    "\n",
    "print(f\"Classes: {train_dataset.classes}\")\n",
    "print(f\"Train samples: {len(train_dataset)}, Test samples: {len(test_dataset)}\")"
   ]
  },
  {
   "cell_type": "markdown",
   "id": "39379987-4475-4d34-a55a-a3f665b6e49c",
   "metadata": {},
   "source": [
    "# **Defining SimAM Attention Module**"
   ]
  },
  {
   "cell_type": "code",
   "execution_count": 47,
   "id": "da542f6c-1735-426e-a23e-b1ad9db5bb8f",
   "metadata": {},
   "outputs": [],
   "source": [
    "class SimAM(nn.Module):\n",
    "    def __init__(self, lambda_val=1e-4):\n",
    "        super(SimAM, self).__init__()\n",
    "        self.lambda_val = lambda_val\n",
    "\n",
    "    def forward(self, X):\n",
    "        n = X.size(2) * X.size(3) - 1\n",
    "        mean = X.mean(dim=[2, 3])\n",
    "        d = (X - mean.unsqueeze(2).unsqueeze(3)).pow(2)\n",
    "        v = d.sum(dim=[2, 3]) / n\n",
    "        E_inv = d / (4 * (v + self.lambda_val).unsqueeze(2).unsqueeze(3)) + 0.5\n",
    "        return X * F.sigmoid(E_inv)"
   ]
  },
  {
   "cell_type": "markdown",
   "id": "18ac6b08-782b-4e1d-9eac-d9161aa82039",
   "metadata": {},
   "source": [
    "# **Defining Depthwise-Separable Convolution**"
   ]
  },
  {
   "cell_type": "code",
   "execution_count": 49,
   "id": "5d632c9e-87dd-43ac-89ed-753159f90ed2",
   "metadata": {},
   "outputs": [],
   "source": [
    "class DWConv3x3(nn.Module):\n",
    "    def __init__(self, in_channels, out_channels):\n",
    "        super(DWConv3x3, self).__init__()\n",
    "        self.depthwise = nn.Conv2d(in_channels, in_channels, kernel_size=3, padding=1, groups=in_channels)\n",
    "        self.pointwise = nn.Conv2d(in_channels, out_channels, kernel_size=1)\n",
    "\n",
    "    def forward(self, X):\n",
    "        X = self.depthwise(X)\n",
    "        X = self.pointwise(X)\n",
    "        return X"
   ]
  },
  {
   "cell_type": "markdown",
   "id": "9c73d132-69a0-4a37-bde4-c64f8c787e7f",
   "metadata": {},
   "source": [
    "# **Defining Simplified MCCRM Module**"
   ]
  },
  {
   "cell_type": "code",
   "execution_count": 52,
   "id": "33289491-1c8b-46fa-adca-8de5c6253701",
   "metadata": {},
   "outputs": [],
   "source": [
    "class MCCRM(nn.Module):\n",
    "    def __init__(self, in_channels):\n",
    "        super(MCCRM, self).__init__()\n",
    "        self.conv1 = nn.Conv2d(in_channels, in_channels, kernel_size=3, padding=1)\n",
    "        self.dwconv1 = DWConv3x3(in_channels, in_channels)\n",
    "        self.simam = SimAM()\n",
    "        self.projection = nn.Conv2d(2 * in_channels, in_channels, kernel_size=1)\n",
    "\n",
    "    def forward(self, X):\n",
    "        F = X\n",
    "        F1 = self.conv1(F)\n",
    "        F2 = self.dwconv1(F1) + F\n",
    "        G = torch.cat([F, F2], dim=1)\n",
    "        G = self.simam(G)\n",
    "        H = self.projection(G)\n",
    "        return H"
   ]
  },
  {
   "cell_type": "markdown",
   "id": "9aadbd36-4df1-4bd7-9852-4c59bd54ad5f",
   "metadata": {},
   "source": [
    "# **Defining Simplified EMPT Module**"
   ]
  },
  {
   "cell_type": "code",
   "execution_count": 55,
   "id": "bfd9050f-a4ff-4384-b6fc-ad84fc9d4476",
   "metadata": {},
   "outputs": [],
   "source": [
    "class EMPT(nn.Module):\n",
    "    def __init__(self, dim, num_heads=2):\n",
    "        super(EMPT, self).__init__()\n",
    "        self.dim = dim\n",
    "        self.attn = nn.MultiheadAttention(embed_dim=dim, num_heads=num_heads, batch_first=True)\n",
    "        self.ln = nn.LayerNorm(dim)\n",
    "        self.ffn = nn.Sequential(\n",
    "            nn.Linear(dim, dim * 2),\n",
    "            nn.GELU(),\n",
    "            nn.Linear(dim * 2, dim)\n",
    "        )\n",
    "        self.ffn_ln = nn.LayerNorm(dim)\n",
    "\n",
    "    def forward(self, x):\n",
    "        B, C, H, W = x.shape\n",
    "        x_flat = rearrange(x, 'b c h w -> b (h w) c')\n",
    "        x_ln = self.ln(x_flat)\n",
    "        attn_out, _ = self.attn(x_ln, x_ln, x_ln)\n",
    "        attn_out = attn_out + x_flat\n",
    "        out = self.ffn_ln(attn_out)\n",
    "        out = self.ffn(out) + out\n",
    "        out = rearrange(out, 'b (h w) c -> b c h w', h=H, w=W)\n",
    "        return out"
   ]
  },
  {
   "cell_type": "markdown",
   "id": "37a13b74-70d7-4cc7-8a70-d101cd05231c",
   "metadata": {},
   "source": [
    "# **Defining IMTM Module**"
   ]
  },
  {
   "cell_type": "code",
   "execution_count": 58,
   "id": "e759bb87-00bf-4b8f-a9ef-7b87a624b059",
   "metadata": {},
   "outputs": [],
   "source": [
    "class IMTM(nn.Module):\n",
    "    def __init__(self, dim=128, num_heads=2):\n",
    "        super(IMTM, self).__init__()\n",
    "        self.dim = dim\n",
    "        self.num_heads = num_heads\n",
    "        self.proj1 = nn.Conv2d(32, dim, kernel_size=1)   # Reduced channels\n",
    "        self.proj2 = nn.Conv2d(64, dim, kernel_size=1)\n",
    "        self.proj3 = nn.Conv2d(96, dim, kernel_size=1)\n",
    "        self.proj4 = nn.Conv2d(128, dim, kernel_size=1)\n",
    "        self.ln = nn.LayerNorm(dim)\n",
    "        self.attn = nn.MultiheadAttention(embed_dim=dim, num_heads=num_heads, batch_first=True)\n",
    "        self.mlp = nn.Sequential(\n",
    "            nn.Linear(dim, dim * 2),\n",
    "            nn.GELU(),\n",
    "            nn.Linear(dim * 2, dim)\n",
    "        )\n",
    "        self.mlp_ln = nn.LayerNorm(dim)\n",
    "        self.out_proj1 = nn.Conv2d(dim, 32, kernel_size=1)\n",
    "        self.out_proj2 = nn.Conv2d(dim, 64, kernel_size=1)\n",
    "        self.out_proj3 = nn.Conv2d(dim, 96, kernel_size=1)\n",
    "        self.out_proj4 = nn.Conv2d(dim, 128, kernel_size=1)\n",
    "\n",
    "    def forward(self, t1, t2, t3, t4):\n",
    "        B, _, H, W = t4.shape\n",
    "        orig_sizes = [t1.shape[2:], t2.shape[2:], t3.shape[2:], t4.shape[2:]]\n",
    "        t1 = self.proj1(t1)\n",
    "        t2 = self.proj2(t2)\n",
    "        t3 = self.proj3(t3)\n",
    "        t4 = self.proj4(t4)\n",
    "        t1 = F.interpolate(t1, size=(H, W), mode='bilinear', align_corners=False)\n",
    "        t2 = F.interpolate(t2, size=(H, W), mode='bilinear', align_corners=False)\n",
    "        t3 = F.interpolate(t3, size=(H, W), mode='bilinear', align_corners=False)\n",
    "        feats = [rearrange(t, 'b c h w -> b (h w) c') for t in [t1, t2, t3, t4]]\n",
    "        feats = torch.cat(feats, dim=1)\n",
    "        feats = self.ln(feats)\n",
    "        attn_out, _ = self.attn(feats, feats, feats)\n",
    "        attn_out = attn_out + feats\n",
    "        out = self.mlp_ln(attn_out)\n",
    "        out = self.mlp(out) + out\n",
    "        out = out.chunk(4, dim=1)\n",
    "        out = [rearrange(o, 'b (h w) c -> b c h w', h=H, w=W) for o in out]\n",
    "        out[0] = F.interpolate(self.out_proj1(out[0]), size=orig_sizes[0], mode='bilinear', align_corners=False)\n",
    "        out[1] = F.interpolate(self.out_proj2(out[1]), size=orig_sizes[1], mode='bilinear', align_corners=False)\n",
    "        out[2] = F.interpolate(self.out_proj3(out[2]), size=orig_sizes[2], mode='bilinear', align_corners=False)\n",
    "        out[3] = F.interpolate(self.out_proj4(out[3]), size=orig_sizes[3], mode='bilinear', align_corners=False)\n",
    "        return out"
   ]
  },
  {
   "cell_type": "markdown",
   "id": "f67d88ab-e884-4dd4-9879-52fbf92e24a8",
   "metadata": {},
   "source": [
    "# **Defining Simplified Backbone**"
   ]
  },
  {
   "cell_type": "code",
   "execution_count": 61,
   "id": "bb06cb42-1ad8-480b-ab7a-840cb5b49129",
   "metadata": {},
   "outputs": [],
   "source": [
    "class Backbone(nn.Module):\n",
    "    def __init__(self):\n",
    "        super(Backbone, self).__init__()\n",
    "        self.conv1 = nn.Conv2d(3, 32, kernel_size=7, stride=2, padding=3)\n",
    "        self.bn1 = nn.BatchNorm2d(32)\n",
    "        self.relu = nn.ReLU(inplace=True)\n",
    "        self.maxpool = nn.MaxPool2d(kernel_size=3, stride=2, padding=1)\n",
    "        self.stage1 = nn.Sequential(MCCRM(32))\n",
    "        self.downsample1 = nn.Conv2d(32, 64, kernel_size=2, stride=2)\n",
    "        self.stage2 = nn.Sequential(MCCRM(64))\n",
    "        self.downsample2 = nn.Conv2d(64, 96, kernel_size=2, stride=2)\n",
    "        self.stage3 = nn.Sequential(MCCRM(96))\n",
    "        self.downsample3 = nn.Conv2d(96, 128, kernel_size=2, stride=2)\n",
    "        self.stage4 = nn.Sequential(MCCRM(128))\n",
    "\n",
    "    def forward(self, x):\n",
    "        x = self.conv1(x)\n",
    "        x = self.bn1(x)\n",
    "        x = self.relu(x)\n",
    "        x = self.maxpool(x)\n",
    "        x1 = self.stage1(x)\n",
    "        x2 = self.stage2(self.downsample1(x1))\n",
    "        x3 = self.stage3(self.downsample2(x2))\n",
    "        x4 = self.stage4(self.downsample3(x3))\n",
    "        return x1, x2, x3, x4"
   ]
  },
  {
   "cell_type": "markdown",
   "id": "f11880a7-ded8-4847-8bd5-74747277134b",
   "metadata": {},
   "source": [
    "# **Defining Auxiliary Network**"
   ]
  },
  {
   "cell_type": "code",
   "execution_count": 64,
   "id": "54a1e196-17ad-4d1a-968a-cc9b509b8297",
   "metadata": {},
   "outputs": [],
   "source": [
    "class AuxiliaryNetwork(nn.Module):\n",
    "    def __init__(self):\n",
    "        super(AuxiliaryNetwork, self).__init__()\n",
    "        self.empt1 = EMPT(32)\n",
    "        self.empt2 = EMPT(64)\n",
    "        self.empt3 = EMPT(96)\n",
    "        self.empt4 = EMPT(128)\n",
    "\n",
    "    def forward(self, x1, x2, x3, x4):\n",
    "        t1 = self.empt1(x1)\n",
    "        t2 = self.empt2(x2)\n",
    "        t3 = self.empt3(x3)\n",
    "        t4 = self.empt4(x4)\n",
    "        return t1, t2, t3, t4"
   ]
  },
  {
   "cell_type": "markdown",
   "id": "76b2314e-32f3-4b46-bab2-6efac5018cfe",
   "metadata": {},
   "source": [
    "# **Defining Identity-Mapping ResFormer**"
   ]
  },
  {
   "cell_type": "code",
   "execution_count": 67,
   "id": "62b039d3-da39-4cc7-827d-56afb48fb23b",
   "metadata": {},
   "outputs": [],
   "source": [
    "class IdentityMappingResFormer(nn.Module):\n",
    "    def __init__(self, num_classes=4):\n",
    "        super(IdentityMappingResFormer, self).__init__()\n",
    "        self.backbone = Backbone()\n",
    "        self.auxiliary = AuxiliaryNetwork()\n",
    "        self.imtm = IMTM(dim=128)\n",
    "        self.pool = nn.AdaptiveAvgPool2d(1)\n",
    "        self.fc = nn.Linear(128, num_classes)\n",
    "\n",
    "    def forward(self, x):\n",
    "        x1, x2, x3, x4 = self.backbone(x)\n",
    "        t1, t2, t3, t4 = self.auxiliary(x1, x2, x3, x4)\n",
    "        t1_out, t2_out, t3_out, t4_out = self.imtm(t1, t2, t3, t4)\n",
    "        f1 = x1 + t1_out\n",
    "        f2 = x2 + t2_out\n",
    "        f3 = x3 + t3_out\n",
    "        f4 = x4 + t4_out\n",
    "        out = self.pool(f4)\n",
    "        out = out.view(out.size(0), -1)\n",
    "        out = self.fc(out)\n",
    "        return out"
   ]
  },
  {
   "cell_type": "markdown",
   "id": "fc0c8bf0-1873-480b-9e06-afe8853a8705",
   "metadata": {},
   "source": [
    "# **Training the Loop**"
   ]
  },
  {
   "cell_type": "code",
   "execution_count": 74,
   "id": "1cbb1c6e-ecba-4850-b542-1f18294ca731",
   "metadata": {},
   "outputs": [
    {
     "name": "stderr",
     "output_type": "stream",
     "text": [
      "Epoch 1/20: 100%|██████████████████████████████████████████████████████████████████| 4762/4762 [37:09<00:00,  2.14it/s]\n"
     ]
    },
    {
     "name": "stdout",
     "output_type": "stream",
     "text": [
      "Epoch [1/20], Loss: 1.0022, Val Loss: 0.8521, Val Acc: 64.76%\n"
     ]
    },
    {
     "name": "stderr",
     "output_type": "stream",
     "text": [
      "Epoch 2/20: 100%|██████████████████████████████████████████████████████████████████| 4762/4762 [18:42<00:00,  4.24it/s]\n"
     ]
    },
    {
     "name": "stdout",
     "output_type": "stream",
     "text": [
      "Epoch [2/20], Loss: 0.7482, Val Loss: 0.7179, Val Acc: 71.47%\n"
     ]
    },
    {
     "name": "stderr",
     "output_type": "stream",
     "text": [
      "Epoch 3/20: 100%|██████████████████████████████████████████████████████████████████| 4762/4762 [14:39<00:00,  5.42it/s]\n"
     ]
    },
    {
     "name": "stdout",
     "output_type": "stream",
     "text": [
      "Epoch [3/20], Loss: 0.6589, Val Loss: 0.6216, Val Acc: 75.53%\n"
     ]
    },
    {
     "name": "stderr",
     "output_type": "stream",
     "text": [
      "Epoch 4/20: 100%|██████████████████████████████████████████████████████████████████| 4762/4762 [14:14<00:00,  5.58it/s]\n"
     ]
    },
    {
     "name": "stdout",
     "output_type": "stream",
     "text": [
      "Epoch [4/20], Loss: 0.5971, Val Loss: 0.6276, Val Acc: 77.28%\n"
     ]
    },
    {
     "name": "stderr",
     "output_type": "stream",
     "text": [
      "Epoch 5/20: 100%|██████████████████████████████████████████████████████████████████| 4762/4762 [14:26<00:00,  5.49it/s]\n"
     ]
    },
    {
     "name": "stdout",
     "output_type": "stream",
     "text": [
      "Epoch [5/20], Loss: 0.5537, Val Loss: 0.5388, Val Acc: 79.59%\n"
     ]
    },
    {
     "name": "stderr",
     "output_type": "stream",
     "text": [
      "Epoch 6/20: 100%|██████████████████████████████████████████████████████████████████| 4762/4762 [14:54<00:00,  5.33it/s]\n"
     ]
    },
    {
     "name": "stdout",
     "output_type": "stream",
     "text": [
      "Epoch [6/20], Loss: 0.5238, Val Loss: 0.5729, Val Acc: 78.22%\n"
     ]
    },
    {
     "name": "stderr",
     "output_type": "stream",
     "text": [
      "Epoch 7/20: 100%|██████████████████████████████████████████████████████████████████| 4762/4762 [23:51<00:00,  3.33it/s]\n"
     ]
    },
    {
     "name": "stdout",
     "output_type": "stream",
     "text": [
      "Epoch [7/20], Loss: 0.4946, Val Loss: 0.4755, Val Acc: 81.77%\n"
     ]
    },
    {
     "name": "stderr",
     "output_type": "stream",
     "text": [
      "Epoch 8/20: 100%|██████████████████████████████████████████████████████████████████| 4762/4762 [34:00<00:00,  2.33it/s]\n"
     ]
    },
    {
     "name": "stdout",
     "output_type": "stream",
     "text": [
      "Epoch [8/20], Loss: 0.4559, Val Loss: 0.5094, Val Acc: 81.06%\n"
     ]
    },
    {
     "name": "stderr",
     "output_type": "stream",
     "text": [
      "Epoch 9/20: 100%|██████████████████████████████████████████████████████████████████| 4762/4762 [25:58<00:00,  3.05it/s]\n"
     ]
    },
    {
     "name": "stdout",
     "output_type": "stream",
     "text": [
      "Epoch [9/20], Loss: 0.4307, Val Loss: 0.4774, Val Acc: 81.72%\n"
     ]
    },
    {
     "name": "stderr",
     "output_type": "stream",
     "text": [
      "Epoch 10/20: 100%|█████████████████████████████████████████████████████████████████| 4762/4762 [20:52<00:00,  3.80it/s]\n"
     ]
    },
    {
     "name": "stdout",
     "output_type": "stream",
     "text": [
      "Epoch [10/20], Loss: 0.4136, Val Loss: 0.4176, Val Acc: 83.75%\n"
     ]
    },
    {
     "name": "stderr",
     "output_type": "stream",
     "text": [
      "Epoch 11/20: 100%|█████████████████████████████████████████████████████████████████| 4762/4762 [16:48<00:00,  4.72it/s]\n"
     ]
    },
    {
     "name": "stdout",
     "output_type": "stream",
     "text": [
      "Epoch [11/20], Loss: 0.4045, Val Loss: 0.4263, Val Acc: 84.03%\n"
     ]
    },
    {
     "name": "stderr",
     "output_type": "stream",
     "text": [
      "Epoch 12/20: 100%|█████████████████████████████████████████████████████████████████| 4762/4762 [17:55<00:00,  4.43it/s]\n"
     ]
    },
    {
     "name": "stdout",
     "output_type": "stream",
     "text": [
      "Epoch [12/20], Loss: 0.3879, Val Loss: 0.4229, Val Acc: 84.84%\n"
     ]
    },
    {
     "name": "stderr",
     "output_type": "stream",
     "text": [
      "Epoch 13/20: 100%|█████████████████████████████████████████████████████████████████| 4762/4762 [21:47<00:00,  3.64it/s]\n"
     ]
    },
    {
     "name": "stdout",
     "output_type": "stream",
     "text": [
      "Epoch [13/20], Loss: 0.3804, Val Loss: 0.3775, Val Acc: 85.92%\n"
     ]
    },
    {
     "name": "stderr",
     "output_type": "stream",
     "text": [
      "Epoch 14/20: 100%|█████████████████████████████████████████████████████████████████| 4762/4762 [38:11<00:00,  2.08it/s]\n"
     ]
    },
    {
     "name": "stdout",
     "output_type": "stream",
     "text": [
      "Epoch [14/20], Loss: 0.3727, Val Loss: 0.4611, Val Acc: 81.96%\n"
     ]
    },
    {
     "name": "stderr",
     "output_type": "stream",
     "text": [
      "Epoch 15/20: 100%|█████████████████████████████████████████████████████████████████| 4762/4762 [19:25<00:00,  4.09it/s]\n"
     ]
    },
    {
     "name": "stdout",
     "output_type": "stream",
     "text": [
      "Epoch [15/20], Loss: 0.3645, Val Loss: 0.4103, Val Acc: 85.83%\n"
     ]
    },
    {
     "name": "stderr",
     "output_type": "stream",
     "text": [
      "Epoch 16/20: 100%|█████████████████████████████████████████████████████████████████| 4762/4762 [17:02<00:00,  4.66it/s]\n"
     ]
    },
    {
     "name": "stdout",
     "output_type": "stream",
     "text": [
      "Epoch [16/20], Loss: 0.3523, Val Loss: 0.4136, Val Acc: 84.27%\n"
     ]
    },
    {
     "name": "stderr",
     "output_type": "stream",
     "text": [
      "Epoch 17/20: 100%|█████████████████████████████████████████████████████████████████| 4762/4762 [17:01<00:00,  4.66it/s]\n"
     ]
    },
    {
     "name": "stdout",
     "output_type": "stream",
     "text": [
      "Epoch [17/20], Loss: 0.3466, Val Loss: 0.4026, Val Acc: 84.84%\n"
     ]
    },
    {
     "name": "stderr",
     "output_type": "stream",
     "text": [
      "Epoch 18/20: 100%|█████████████████████████████████████████████████████████████████| 4762/4762 [17:14<00:00,  4.60it/s]\n"
     ]
    },
    {
     "name": "stdout",
     "output_type": "stream",
     "text": [
      "Epoch [18/20], Loss: 0.2480, Val Loss: 0.3238, Val Acc: 88.05%\n"
     ]
    },
    {
     "name": "stderr",
     "output_type": "stream",
     "text": [
      "Epoch 19/20: 100%|█████████████████████████████████████████████████████████████████| 4762/4762 [17:08<00:00,  4.63it/s]\n"
     ]
    },
    {
     "name": "stdout",
     "output_type": "stream",
     "text": [
      "Epoch [19/20], Loss: 0.2203, Val Loss: 0.3252, Val Acc: 88.62%\n"
     ]
    },
    {
     "name": "stderr",
     "output_type": "stream",
     "text": [
      "Epoch 20/20: 100%|█████████████████████████████████████████████████████████████████| 4762/4762 [16:55<00:00,  4.69it/s]\n"
     ]
    },
    {
     "name": "stdout",
     "output_type": "stream",
     "text": [
      "Epoch [20/20], Loss: 0.2049, Val Loss: 0.3224, Val Acc: 88.57%\n"
     ]
    }
   ],
   "source": [
    "# Set device\n",
    "device = torch.device(\"cpu\")\n",
    "model = IdentityMappingResFormer().to(device)\n",
    "\n",
    "# Loss, optimizer, scheduler\n",
    "criterion = nn.CrossEntropyLoss()\n",
    "optimizer = optim.Adam(model.parameters(), lr=1e-3)  # Higher LR for faster CPU training\n",
    "scheduler = optim.lr_scheduler.ReduceLROnPlateau(optimizer, mode='min', factor=0.1, patience=3)\n",
    "\n",
    "# Training loop\n",
    "num_epochs = 20  # Fewer epochs for CPU\n",
    "best_acc = 0.0\n",
    "patience = 5\n",
    "counter = 0\n",
    "train_losses = []\n",
    "val_accuracies = []\n",
    "\n",
    "for epoch in range(num_epochs):\n",
    "    model.train()\n",
    "    running_loss = 0.0\n",
    "    for i, (images, labels) in enumerate(tqdm(train_loader, desc=f\"Epoch {epoch+1}/{num_epochs}\")):\n",
    "        images, labels = images.to(device), labels.to(device)\n",
    "        try:\n",
    "            optimizer.zero_grad()\n",
    "            outputs = model(images)\n",
    "            loss = criterion(outputs, labels)\n",
    "            loss.backward()\n",
    "            optimizer.step()\n",
    "            running_loss += loss.item()\n",
    "        except RuntimeError as e:\n",
    "            print(f\"Error in batch {i}: {e}\")\n",
    "            print(f\"Input shape: {images.shape}\")\n",
    "            raise e\n",
    "\n",
    "    avg_loss = running_loss / len(train_loader)\n",
    "    train_losses.append(avg_loss)\n",
    "\n",
    "    # Validation\n",
    "    model.eval()\n",
    "    correct = 0\n",
    "    total = 0\n",
    "    val_loss = 0.0\n",
    "    with torch.no_grad():\n",
    "        for images, labels in test_loader:\n",
    "            images, labels = images.to(device), labels.to(device)\n",
    "            outputs = model(images)\n",
    "            loss = criterion(outputs, labels)\n",
    "            val_loss += loss.item()\n",
    "            _, predicted = torch.max(outputs, 1)\n",
    "            total += labels.size(0)\n",
    "            correct += (predicted == labels).sum().item()\n",
    "\n",
    "    val_acc = 100 * correct / total\n",
    "    val_accuracies.append(val_acc)\n",
    "    avg_val_loss = val_loss / len(test_loader)\n",
    "    scheduler.step(avg_val_loss)\n",
    "\n",
    "    print(f\"Epoch [{epoch+1}/{num_epochs}], Loss: {avg_loss:.4f}, Val Loss: {avg_val_loss:.4f}, Val Acc: {val_acc:.2f}%\")\n",
    "\n",
    "    # Early stopping\n",
    "    if val_acc > best_acc:\n",
    "        best_acc = val_acc\n",
    "        torch.save(model.state_dict(), 'best_model.pth')\n",
    "        counter = 0\n",
    "    else:\n",
    "        counter += 1\n",
    "        if counter >= patience:\n",
    "            print(\"Early stopping triggered\")\n",
    "            break"
   ]
  },
  {
   "cell_type": "markdown",
   "id": "c334ae36-a7d3-4410-94d6-e144c7e8eb8e",
   "metadata": {},
   "source": [
    "# **Evaluating Model**"
   ]
  },
  {
   "cell_type": "code",
   "execution_count": 76,
   "id": "7023e520-a9ce-4acb-be1e-5c986cc9f617",
   "metadata": {},
   "outputs": [],
   "source": [
    "# Load best model\n",
    "model.load_state_dict(torch.load('best_model.pth'))\n",
    "\n",
    "# Evaluation function\n",
    "def evaluate_model(model, dataloader, device):\n",
    "    model.eval()\n",
    "    all_preds = []\n",
    "    all_labels = []\n",
    "    with torch.no_grad():\n",
    "        for images, labels in tqdm(dataloader, desc=\"Evaluating\"):\n",
    "            images, labels = images.to(device), labels.to(device)\n",
    "            outputs = model(images)\n",
    "            _, preds = torch.max(outputs, 1)\n",
    "            all_preds.extend(preds.cpu().numpy())\n",
    "            all_labels.extend(labels.cpu().numpy())\n",
    "\n",
    "    accuracy = 100 * np.mean(np.array(all_preds) == np.array(all_labels))\n",
    "    precision = precision_score(all_labels, all_preds, average='macro')\n",
    "    recall = recall_score(all_labels, all_preds, average='macro')\n",
    "    f1 = f1_score(all_labels, all_preds, average='macro')\n",
    "    cm = confusion_matrix(all_labels, all_preds)\n",
    "    specificity = []\n",
    "    for i in range(len(cm)):\n",
    "        tn = sum(sum(cm)) - sum(cm[i,:]) - sum(cm[:,i]) + cm[i,i]\n",
    "        fp = sum(cm[:,i]) - cm[i,i]\n",
    "        specificity.append(tn / (tn + fp + 1e-10))\n",
    "    specificity = np.mean(specificity)\n",
    "\n",
    "    return {\n",
    "        'Accuracy': accuracy,\n",
    "        'Precision': precision,\n",
    "        'Recall': recall,\n",
    "        'F1': f1,\n",
    "        'Specificity': specificity,\n",
    "        'Confusion Matrix': cm\n",
    "    }"
   ]
  },
  {
   "cell_type": "markdown",
   "id": "aed79c23-af99-49fe-8c58-42add1cd0d64",
   "metadata": {},
   "source": [
    "# **Evaluation Metrics**"
   ]
  },
  {
   "cell_type": "code",
   "execution_count": 78,
   "id": "94abdf25-f69f-4753-816c-365e68080022",
   "metadata": {},
   "outputs": [
    {
     "name": "stderr",
     "output_type": "stream",
     "text": [
      "Evaluating: 100%|████████████████████████████████████████████████████████████████████| 530/530 [01:14<00:00,  7.13it/s]\n"
     ]
    },
    {
     "name": "stdout",
     "output_type": "stream",
     "text": [
      "\n",
      "Evaluation Metrics:\n",
      "Accuracy: 88.6160\n",
      "Precision: 0.9042\n",
      "Recall: 0.8873\n",
      "F1: 0.8954\n",
      "Specificity: 0.9534\n"
     ]
    }
   ],
   "source": [
    "# Evaluate\n",
    "metrics = evaluate_model(model, test_loader, device)\n",
    "print(\"\\nEvaluation Metrics:\")\n",
    "for metric, value in metrics.items():\n",
    "    if metric != 'Confusion Matrix':\n",
    "        print(f\"{metric}: {value:.4f}\")"
   ]
  },
  {
   "cell_type": "markdown",
   "id": "c00f3a68-f38f-464d-9b0a-27953d7577c9",
   "metadata": {},
   "source": [
    "# **Ploting confusion matrix**"
   ]
  },
  {
   "cell_type": "code",
   "execution_count": 80,
   "id": "4a5d20ac-b120-45cd-9bed-b198408f52c9",
   "metadata": {},
   "outputs": [
    {
     "data": {
      "image/png": "[encoded data removed]",
      "text/plain": [
       "<Figure size 800x600 with 2 Axes>"
      ]
     },
     "metadata": {},
     "output_type": "display_data"
    }
   ],
   "source": [
    "# Plot confusion matrix\n",
    "plt.figure(figsize=(8, 6))\n",
    "sns.heatmap(metrics['Confusion Matrix'], annot=True, fmt='d', cmap='Blues', xticklabels=train_dataset.classes, yticklabels=train_dataset.classes)\n",
    "plt.xlabel('Predicted')\n",
    "plt.ylabel('True')\n",
    "plt.title('Confusion Matrix')\n",
    "plt.show()"
   ]
  },
  {
   "cell_type": "markdown",
   "id": "0162f6fc-583f-4b0e-b43a-7e2f0b86186d",
   "metadata": {},
   "source": [
    "# **Ploting training progress**"
   ]
  },
  {
   "cell_type": "code",
   "execution_count": 82,
   "id": "0309f723-fb99-4aaa-9de4-5b78e247f117",
   "metadata": {},
   "outputs": [
    {
     "data": {
      "image/png": "[encoded data removed]",
      "text/plain": [
       "<Figure size 1200x400 with 2 Axes>"
      ]
     },
     "metadata": {},
     "output_type": "display_data"
    }
   ],
   "source": [
    "# Plot training progress\n",
    "plt.figure(figsize=(12, 4))\n",
    "plt.subplot(1, 2, 1)\n",
    "plt.plot(train_losses, label='Training Loss')\n",
    "plt.xlabel('Epoch')\n",
    "plt.ylabel('Loss')\n",
    "plt.title('Training Loss')\n",
    "plt.legend()\n",
    "plt.subplot(1, 2, 2)\n",
    "plt.plot(val_accuracies, label='Validation Accuracy')\n",
    "plt.xlabel('Epoch')\n",
    "plt.ylabel('Accuracy (%)')\n",
    "plt.title('Validation Accuracy')\n",
    "plt.legend()\n",
    "plt.show()"
   ]
  },
  {
   "cell_type": "code",
   "execution_count": null,
   "id": "5ab01f23-4d80-413c-bcd8-610d4a2e176c",
   "metadata": {},
   "outputs": [],
   "source": []
  }
 ],
 "metadata": {
  "kernelspec": {
   "display_name": "Python 3 (ipykernel)",
   "language": "python",
   "name": "python3"
  },
  "language_info": {
   "codemirror_mode": {
    "name": "ipython",
    "version": 3
   },
   "file_extension": ".py",
   "mimetype": "text/x-python",
   "name": "python",
   "nbconvert_exporter": "python",
   "pygments_lexer": "ipython3",
   "version": "3.12.4"
  }
 },
 "nbformat": 4,
 "nbformat_minor": 5
}
